{
 "cells": [
  {
   "cell_type": "markdown",
   "metadata": {},
   "source": [
    "# WeatherPy"
   ]
  },
  {
   "cell_type": "code",
   "execution_count": 1,
   "metadata": {},
   "outputs": [
    {
     "ename": "ModuleNotFoundError",
     "evalue": "No module named 'api_keys'",
     "output_type": "error",
     "traceback": [
      "\u001b[0;31m---------------------------------------------------------------------------\u001b[0m",
      "\u001b[0;31mModuleNotFoundError\u001b[0m                       Traceback (most recent call last)",
      "\u001b[0;32m<ipython-input-1-3c5eb04717e2>\u001b[0m in \u001b[0;36m<module>\u001b[0;34m\u001b[0m\n\u001b[1;32m      9\u001b[0m \u001b[0;34m\u001b[0m\u001b[0m\n\u001b[1;32m     10\u001b[0m \u001b[0;31m# Import API key\u001b[0m\u001b[0;34m\u001b[0m\u001b[0;34m\u001b[0m\u001b[0;34m\u001b[0m\u001b[0m\n\u001b[0;32m---> 11\u001b[0;31m \u001b[0;32mfrom\u001b[0m \u001b[0mapi_keys\u001b[0m \u001b[0;32mimport\u001b[0m \u001b[0mweather_api_key\u001b[0m\u001b[0;34m\u001b[0m\u001b[0;34m\u001b[0m\u001b[0m\n\u001b[0m\u001b[1;32m     12\u001b[0m \u001b[0;34m\u001b[0m\u001b[0m\n\u001b[1;32m     13\u001b[0m \u001b[0;31m# Incorporated citipy to determine city based on latitude and longitude\u001b[0m\u001b[0;34m\u001b[0m\u001b[0;34m\u001b[0m\u001b[0;34m\u001b[0m\u001b[0m\n",
      "\u001b[0;31mModuleNotFoundError\u001b[0m: No module named 'api_keys'"
     ]
    }
   ],
   "source": [
    "# Dependencies and Setup\n",
    "import matplotlib.pyplot as plt\n",
    "import pandas as pd\n",
    "import numpy as np\n",
    "import requests\n",
    "import time\n",
    "from scipy.stats import linregress\n",
    "from sklearn import datasets\n",
    "            \n",
    "# Import API key\n",
    "from api_keys import weather_api_key\n",
    "\n",
    "# Incorporated citipy to determine city based on latitude and longitude\n",
    "from citipy import citipy\n",
    "\n",
    "# Output File (CSV)\n",
    "output_data_file = \"output_data/cities.csv\"\n",
    "\n",
    "# Range of latitudes and longitudes\n",
    "lat_range = (-90, 90)\n",
    "lng_range = (-180, 180)"
   ]
  },
  {
   "cell_type": "markdown",
   "metadata": {},
   "source": [
    "## Generate Cities List"
   ]
  },
  {
   "cell_type": "code",
   "execution_count": null,
   "metadata": {},
   "outputs": [],
   "source": [
    "# List for holding lat_lngs and cities\n",
    "lat_lngs = []\n",
    "cities = []\n",
    "\n",
    "# Create a set of random lat and lng combinations\n",
    "lats = np.random.uniform(low=-90.000, high=90.000, size=1500)\n",
    "lngs = np.random.uniform(low=-180.000, high=180.000, size=1500)\n",
    "lat_lngs = zip(lats, lngs)\n",
    "\n",
    "# Identify nearest city for each lat, lng combination\n",
    "for lat_lng in lat_lngs:\n",
    "    city = citipy.nearest_city(lat_lng[0], lat_lng[1]).city_name\n",
    "    \n",
    "    # If the city is unique, then add it to a our cities list\n",
    "    if city not in cities:\n",
    "        cities.append(city)\n",
    "\n",
    "# Print the city count to confirm sufficient count\n",
    "len(cities)"
   ]
  },
  {
   "cell_type": "markdown",
   "metadata": {},
   "source": [
    "### Perform API Calls"
   ]
  },
  {
   "cell_type": "code",
   "execution_count": null,
   "metadata": {},
   "outputs": [],
   "source": [
    "# Save config information\n",
    "url = \"http://api.openweathermap.org/data/2.5/weather?\"\n",
    "city = \"Ngozi\"\n",
    "unit = \"metric\"\n",
    "api_key = \"3ae14226d6578ff5467d07ed9b61be99\"\n",
    "\n",
    "# Build query URL\n",
    "query_url = url + \"appid=\" + weather_api_key + \"&q=\"\n",
    "weather_data = []\n",
    "record_count = 0\n",
    "set_count = 1\n",
    "i = 1\n",
    "#for i,city in enumerate(cities):\n",
    "for city in cities:\n",
    "    if (i % 50 == 0 and i >= 50):\n",
    "        set_count += 1 \n",
    "        record_count = 0\n",
    "    i += 1\n",
    "    print(f\"Processing record %s of set %s | %s\" % (record_count, set_count, city))\n",
    "    record_count += 1\n",
    "    city_url = query_url + city\n",
    "    # Get the temperature from the response\n",
    "    try: \n",
    "        # Get weather data\n",
    "        weather_json = requests.get(city_url).json()\n",
    "        Cloudiness = weather_json[\"clouds\"][\"all\"]\n",
    "        Country = weather_json[\"sys\"][\"country\"]\n",
    "        Date = weather_json[\"dt\"]\n",
    "        Humidity = weather_json[\"main\"][\"humidity\"]\n",
    "        Lat = weather_json[\"coord\"][\"lat\"]\n",
    "        Lng = weather_json[\"coord\"][\"lon\"]\n",
    "        Max_Temp = weather_json[\"main\"][\"temp_max\"]\n",
    "        Wind_Speed = weather_json[\"wind\"][\"speed\"]\n",
    "        weather_data.append({\n",
    "                \"City\":city, \n",
    "                \"Cloudiness\":Cloudiness, \n",
    "                \"Country\":Country, \n",
    "                \"Date\":Date,\n",
    "                \"Humidity\":Humidity,\n",
    "                \"Lat\":Lat,\n",
    "                \"Lng\":Lng,\n",
    "                \"Max Temp\":Max_Temp,\n",
    "                \"Wind Speed\":Wind_Speed}) \n",
    "    except:\n",
    "        print(\"City Not Found\")\n",
    "        pass\n",
    "    \n",
    "print(\"Data retrieval done.\")"
   ]
  },
  {
   "cell_type": "markdown",
   "metadata": {},
   "source": [
    "### Convert Raw Data to DataFrame"
   ]
  },
  {
   "cell_type": "code",
   "execution_count": 3,
   "metadata": {},
   "outputs": [
    {
     "ename": "NameError",
     "evalue": "name 'weather_data' is not defined",
     "output_type": "error",
     "traceback": [
      "\u001b[0;31m---------------------------------------------------------------------------\u001b[0m",
      "\u001b[0;31mNameError\u001b[0m                                 Traceback (most recent call last)",
      "\u001b[0;32m<ipython-input-3-56c81d44a962>\u001b[0m in \u001b[0;36m<module>\u001b[0;34m\u001b[0m\n\u001b[0;32m----> 1\u001b[0;31m \u001b[0mcity_data_df\u001b[0m \u001b[0;34m=\u001b[0m \u001b[0mpd\u001b[0m\u001b[0;34m.\u001b[0m\u001b[0mDataFrame\u001b[0m\u001b[0;34m(\u001b[0m\u001b[0mweather_data\u001b[0m\u001b[0;34m)\u001b[0m\u001b[0;34m\u001b[0m\u001b[0;34m\u001b[0m\u001b[0m\n\u001b[0m\u001b[1;32m      2\u001b[0m \u001b[0mcity_data_df\u001b[0m\u001b[0;34m.\u001b[0m\u001b[0mto_csv\u001b[0m\u001b[0;34m(\u001b[0m\u001b[0;34m\"weather_data.csv\"\u001b[0m\u001b[0;34m,\u001b[0m \u001b[0mindex_label\u001b[0m\u001b[0;34m=\u001b[0m\u001b[0;34m\"City ID\"\u001b[0m\u001b[0;34m)\u001b[0m\u001b[0;34m\u001b[0m\u001b[0;34m\u001b[0m\u001b[0m\n\u001b[1;32m      3\u001b[0m \u001b[0;34m\u001b[0m\u001b[0m\n\u001b[1;32m      4\u001b[0m \u001b[0;31m#Convert Temp to F\u001b[0m\u001b[0;34m\u001b[0m\u001b[0;34m\u001b[0m\u001b[0;34m\u001b[0m\u001b[0m\n\u001b[1;32m      5\u001b[0m \u001b[0mcity_data_df\u001b[0m\u001b[0;34m[\u001b[0m\u001b[0;34m'Max Temp'\u001b[0m\u001b[0;34m]\u001b[0m \u001b[0;34m=\u001b[0m \u001b[0;34m(\u001b[0m\u001b[0mcity_data_df\u001b[0m\u001b[0;34m[\u001b[0m\u001b[0;34m'Max Temp'\u001b[0m\u001b[0;34m]\u001b[0m \u001b[0;34m-\u001b[0m \u001b[0;36m241.15\u001b[0m\u001b[0;34m)\u001b[0m \u001b[0;34m*\u001b[0m \u001b[0;34m(\u001b[0m\u001b[0;36m9\u001b[0m\u001b[0;34m/\u001b[0m\u001b[0;36m5\u001b[0m\u001b[0;34m)\u001b[0m\u001b[0;34m\u001b[0m\u001b[0;34m\u001b[0m\u001b[0m\n",
      "\u001b[0;31mNameError\u001b[0m: name 'weather_data' is not defined"
     ]
    }
   ],
   "source": [
    "city_data_df = pd.DataFrame(weather_data)\n",
    "city_data_df.to_csv(\"weather_data.csv\", index_label=\"City ID\")\n",
    "\n",
    "#Convert Temp to F\n",
    "city_data_df['Max Temp'] = (city_data_df['Max Temp'] - 241.15) * (9/5)\n",
    "city_data_df"
   ]
  },
  {
   "cell_type": "markdown",
   "metadata": {},
   "source": [
    "### Plotting the Data"
   ]
  },
  {
   "cell_type": "markdown",
   "metadata": {},
   "source": [
    "#### Latitude vs. Temperature Plot"
   ]
  },
  {
   "cell_type": "code",
   "execution_count": 4,
   "metadata": {},
   "outputs": [
    {
     "ename": "NameError",
     "evalue": "name 'city_data_df' is not defined",
     "output_type": "error",
     "traceback": [
      "\u001b[0;31m---------------------------------------------------------------------------\u001b[0m",
      "\u001b[0;31mNameError\u001b[0m                                 Traceback (most recent call last)",
      "\u001b[0;32m<ipython-input-4-ce7b71318fa7>\u001b[0m in \u001b[0;36m<module>\u001b[0;34m\u001b[0m\n\u001b[0;32m----> 1\u001b[0;31m \u001b[0mplt\u001b[0m\u001b[0;34m.\u001b[0m\u001b[0mscatter\u001b[0m\u001b[0;34m(\u001b[0m\u001b[0mcity_data_df\u001b[0m\u001b[0;34m[\u001b[0m\u001b[0;34m\"Lat\"\u001b[0m\u001b[0;34m]\u001b[0m\u001b[0;34m,\u001b[0m \u001b[0mcity_data_df\u001b[0m\u001b[0;34m[\u001b[0m\u001b[0;34m\"Max Temp\"\u001b[0m\u001b[0;34m]\u001b[0m\u001b[0;34m,\u001b[0m \u001b[0mcolor\u001b[0m\u001b[0;34m=\u001b[0m\u001b[0;34m\"r\"\u001b[0m\u001b[0;34m,\u001b[0m \u001b[0mmarker\u001b[0m\u001b[0;34m=\u001b[0m\u001b[0;34m\"o\"\u001b[0m\u001b[0;34m)\u001b[0m\u001b[0;34m\u001b[0m\u001b[0;34m\u001b[0m\u001b[0m\n\u001b[0m\u001b[1;32m      2\u001b[0m \u001b[0mplt\u001b[0m\u001b[0;34m.\u001b[0m\u001b[0mtitle\u001b[0m\u001b[0;34m(\u001b[0m\u001b[0;34mf\"Latitude vs. Temperature\"\u001b[0m\u001b[0;34m)\u001b[0m\u001b[0;34m\u001b[0m\u001b[0;34m\u001b[0m\u001b[0m\n\u001b[1;32m      3\u001b[0m \u001b[0mplt\u001b[0m\u001b[0;34m.\u001b[0m\u001b[0mxlabel\u001b[0m\u001b[0;34m(\u001b[0m\u001b[0;34mf\"Max Temperature(F$^\\circ$)\"\u001b[0m\u001b[0;34m)\u001b[0m\u001b[0;34m\u001b[0m\u001b[0;34m\u001b[0m\u001b[0m\n\u001b[1;32m      4\u001b[0m \u001b[0mplt\u001b[0m\u001b[0;34m.\u001b[0m\u001b[0mylabel\u001b[0m\u001b[0;34m(\u001b[0m\u001b[0;34m\"Latitude\"\u001b[0m\u001b[0;34m)\u001b[0m\u001b[0;34m\u001b[0m\u001b[0;34m\u001b[0m\u001b[0m\n\u001b[1;32m      5\u001b[0m \u001b[0mplt\u001b[0m\u001b[0;34m.\u001b[0m\u001b[0mxlim\u001b[0m\u001b[0;34m(\u001b[0m\u001b[0;34m)\u001b[0m\u001b[0;34m\u001b[0m\u001b[0;34m\u001b[0m\u001b[0m\n",
      "\u001b[0;31mNameError\u001b[0m: name 'city_data_df' is not defined"
     ]
    }
   ],
   "source": [
    "plt.scatter(city_data_df[\"Lat\"], city_data_df[\"Max Temp\"], color=\"r\", marker=\"o\")\n",
    "plt.title(f\"Latitude vs. Temperature\")\n",
    "plt.xlabel(f\"Max Temperature(F$^\\circ$)\")\n",
    "plt.ylabel(\"Latitude\")\n",
    "plt.xlim()\n",
    "plt.ylim(0, 400)\n",
    "plt.grid (b=True,which=\"major\",axis=\"both\",linestyle=\"-\",color=\"lightgrey\")\n",
    "\n",
    "#The code here is illustrating the relationship between latitude vs. temperature of 557 cities around the world. "
   ]
  },
  {
   "cell_type": "markdown",
   "metadata": {},
   "source": [
    "#### Latitude vs. Humidity Plot"
   ]
  },
  {
   "cell_type": "code",
   "execution_count": null,
   "metadata": {},
   "outputs": [],
   "source": [
    "plt.scatter(city_data_df[\"Lat\"], city_data_df[\"Humidity\"], color=\"g\", marker=\"o\")\n",
    "plt.title(f\"Latitude vs. Humidity (%)\")\n",
    "plt.xlabel(f\"Humidity (%)\")\n",
    "plt.ylabel(\"Latitude\")\n",
    "plt.xlim(-100, 100)\n",
    "plt.ylim(0, 150)\n",
    "plt.grid (b=True,which=\"major\",axis=\"both\",linestyle=\"-\",color=\"lightgrey\")\n",
    "\n",
    "#Here the code is demonstrating how humidity changes as you go further from the equator. "
   ]
  },
  {
   "cell_type": "markdown",
   "metadata": {},
   "source": [
    "#### Latitude vs. Cloudiness Plot"
   ]
  },
  {
   "cell_type": "code",
   "execution_count": null,
   "metadata": {},
   "outputs": [],
   "source": [
    "plt.scatter(city_data_df[\"Lat\"], city_data_df[\"Cloudiness\"], color=\"y\", marker=\"o\")\n",
    "plt.title(f\"Latitude vs. Cloudiness (%)\")\n",
    "plt.xlabel(f\"Cloudiness (%)\")\n",
    "plt.ylabel(\"Latitude\")\n",
    "plt.xlim(-100, 100)\n",
    "plt.ylim(-10, 150)\n",
    "plt.grid (b=True,which=\"major\",axis=\"both\",linestyle=\"-\",color=\"lightgrey\")\n",
    "\n",
    "#This plot compares the cloudiness of different cities at different latitudes around the world. "
   ]
  },
  {
   "cell_type": "markdown",
   "metadata": {},
   "source": [
    "#### Latitude vs. Wind Speed Plot"
   ]
  },
  {
   "cell_type": "code",
   "execution_count": null,
   "metadata": {},
   "outputs": [],
   "source": [
    "plt.scatter(city_data_df[\"Lat\"], city_data_df[\"Wind Speed\"], color=\"m\", marker=\"o\")\n",
    "plt.title(f\"Latitude vs. Wind Speed (mph)\")\n",
    "plt.xlabel(f\"Wind Speed (mph)\")\n",
    "plt.ylabel(\"Latitude\")\n",
    "plt.xlim(-100, 100)\n",
    "plt.ylim(-10, 150)\n",
    "plt.grid (b=True,which=\"major\",axis=\"both\",linestyle=\"-\",color=\"lightgrey\")\n",
    "plt.show()\n",
    "\n",
    "#This plot indicates how wind speed changes based on latitude. "
   ]
  },
  {
   "cell_type": "markdown",
   "metadata": {},
   "source": [
    "# OPTIONAL: Create a function to create Linear Regression plots\n"
   ]
  },
  {
   "cell_type": "code",
   "execution_count": null,
   "metadata": {},
   "outputs": [],
   "source": [
    "# Create Northern and Southern Hemisphere DataFrames\n",
    "northern = city_data_df.loc[city_data_df.Lat > 0]\n",
    "southern = city_data_df.loc[city_data_df.Lat < 0]"
   ]
  },
  {
   "cell_type": "markdown",
   "metadata": {},
   "source": [
    "####  Northern Hemisphere - Max Temp vs. Latitude Linear Regression"
   ]
  },
  {
   "cell_type": "code",
   "execution_count": null,
   "metadata": {},
   "outputs": [],
   "source": [
    "#Best Fit Polynomial\n",
    "mtemp_n = np.polyfit(northern[\"Max Temp\"], northern[\"Lat\"], 1)\n",
    "\n",
    "#Scatter Plot\n",
    "plt.scatter(northern[\"Max Temp\"], northern[\"Lat\"], color='blue', linewidth=1, s=10)\n",
    "\n",
    "#Regression Lines\n",
    "plt.plot(northern[\"Max Temp\"], mtemp_n[0]*northern[\"Max Temp\"]+mtemp_n[1], color='red', linewidth=1)\n",
    "\n",
    "#Regression Equations\n",
    "plt.text(80,70,'y={:.2f}+{:.2f}*x'.format(mtemp_n[1],mtemp_n[0]),color='darkblue',size=10)\n",
    "\n",
    "#Legend, title, labels\n",
    "plt.legend(labels=['Regression Line'])\n",
    "plt.title(\"Northern Hemisphere - Max Temp vs. Latitude Linear Regression\")\n",
    "plt.xlabel(\"Max Temp (F)\")\n",
    "plt.ylabel(\"Latitude\")\n"
   ]
  },
  {
   "cell_type": "markdown",
   "metadata": {},
   "source": [
    "####  Southern Hemisphere - Max Temp vs. Latitude Linear Regression"
   ]
  },
  {
   "cell_type": "code",
   "execution_count": null,
   "metadata": {},
   "outputs": [],
   "source": [
    "#Best Fit Polynomial\n",
    "mtemp_s = np.polyfit(southern[\"Max Temp\"], southern[\"Lat\"], 1)\n",
    "\n",
    "#Scatter Plot\n",
    "plt.scatter(southern[\"Max Temp\"], southern[\"Lat\"], color='blue', linewidth=1, s=10)\n",
    "\n",
    "#Regression Lines\n",
    "plt.plot(southern[\"Max Temp\"], mtemp_s[0]*southern[\"Max Temp\"]+mtemp_s[1], color='red', linewidth=1)\n",
    "\n",
    "#Regression Equations\n",
    "plt.text(100,-53,'y={:.2f}+{:.2f}*x'.format(mtemp_s[1],mtemp_s[0]),color='red',size=10)\n",
    "\n",
    "#Legend, title, labels\n",
    "plt.legend(labels=['Regression Line'])\n",
    "plt.title(\"Southern Hemisphere - Max Temp vs. Latitude Linear Regression\")\n",
    "plt.xlabel(\"Max Temp (F)\")\n",
    "plt.ylabel(\"Latitude\")\n"
   ]
  },
  {
   "cell_type": "markdown",
   "metadata": {},
   "source": [
    "####  Northern Hemisphere - Humidity (%) vs. Latitude Linear Regression"
   ]
  },
  {
   "cell_type": "code",
   "execution_count": null,
   "metadata": {},
   "outputs": [],
   "source": [
    "#Best Fit Polynomial\n",
    "hum_n = np.polyfit(northern[\"Humidity\"], northern[\"Lat\"], 1)\n",
    "\n",
    "#Scatter Plot\n",
    "plt.scatter(northern[\"Humidity\"], northern[\"Lat\"], color='blue', linewidth=1, s=10)\n",
    "\n",
    "#Regression Lines\n",
    "plt.plot(northern[\"Humidity\"], hum_n[0]*northern[\"Humidity\"]+hum_n[1], color='red', linewidth=1)\n",
    "\n",
    "#Regression Equations\n",
    "plt.text(5,68,'y={:.2f}+{:.2f}*x'.format(hum_n[1],mtemp_n[0]),color='red',size=10)\n",
    "\n",
    "#Legend, title, labels\n",
    "plt.legend(labels=['Regression Line'])\n",
    "plt.title(\"Northern Hemisphere - Humidity vs. Latitude Linear Regression\")\n",
    "plt.xlabel(\"Humidity (%)\")\n",
    "plt.ylabel(\"Latitude\")\n"
   ]
  },
  {
   "cell_type": "markdown",
   "metadata": {},
   "source": [
    "####  Southern Hemisphere - Humidity (%) vs. Latitude Linear Regression"
   ]
  },
  {
   "cell_type": "code",
   "execution_count": null,
   "metadata": {},
   "outputs": [],
   "source": [
    "#Best Fit Polynomial\n",
    "hum_s = np.polyfit(southern[\"Humidity\"], southern[\"Lat\"], 1)\n",
    "\n",
    "#Scatter Plot\n",
    "plt.scatter(southern[\"Humidity\"], southern[\"Lat\"], color='blue', linewidth=1, s=10)\n",
    "\n",
    "#Regression Lines\n",
    "plt.plot(southern[\"Humidity\"], hum_s[0]*southern[\"Humidity\"]+hum_s[1], color='red', linewidth=1)\n",
    "\n",
    "#Regression Equations\n",
    "plt.text(15,-8,'y={:.2f}+{:.2f}*x'.format(hum_s[1],hum_s[0]),color='red',size=10)\n",
    "\n",
    "#Legend, title, labels\n",
    "plt.legend(labels=['Regression Line'])\n",
    "plt.title(\"Southern Hemisphere - Humidity vs. Latitude Linear Regression\")\n",
    "plt.xlabel(\"Humidity (%)\")\n",
    "plt.ylabel(\"Latitude\")"
   ]
  },
  {
   "cell_type": "markdown",
   "metadata": {},
   "source": [
    "####  Northern Hemisphere - Cloudiness (%) vs. Latitude Linear Regression"
   ]
  },
  {
   "cell_type": "code",
   "execution_count": null,
   "metadata": {},
   "outputs": [],
   "source": [
    "#Best Fit Polynomial\n",
    "cloud_n = np.polyfit(northern[\"Cloudiness\"], northern[\"Lat\"], 1)\n",
    "\n",
    "#Scatter Plot\n",
    "plt.scatter(northern[\"Humidity\"], northern[\"Lat\"], color='blue', linewidth=1, s=10)\n",
    "\n",
    "#Regression Lines\n",
    "plt.plot(northern[\"Humidity\"], cloud_n[0]*northern[\"Humidity\"]+cloud_n[1], color='red', linewidth=1)\n",
    "\n",
    "#Regression Equations\n",
    "plt.text(5,68,'y={:.2f}+{:.2f}*x'.format(cloud_n[1],cloud_n[0]),color='red',size=10)\n",
    "\n",
    "#Legend, title, labels\n",
    "plt.legend(labels=['Regression Line'])\n",
    "plt.title(\"Northern Hemisphere - Cloudiness vs. Latitude Linear Regression\")\n",
    "plt.xlabel(\"Cloudiness (%)\")\n",
    "plt.ylabel(\"Latitude\")\n"
   ]
  },
  {
   "cell_type": "markdown",
   "metadata": {},
   "source": [
    "####  Southern Hemisphere - Cloudiness (%) vs. Latitude Linear Regression"
   ]
  },
  {
   "cell_type": "code",
   "execution_count": null,
   "metadata": {},
   "outputs": [],
   "source": [
    "#Best Fit Polynomial\n",
    "cloud_s = np.polyfit(southern[\"Cloudiness\"], southern[\"Lat\"], 1)\n",
    "\n",
    "#Scatter Plot\n",
    "plt.scatter(southern[\"Humidity\"], southern[\"Lat\"], color='blue', linewidth=1, s=10)\n",
    "\n",
    "#Regression Lines\n",
    "plt.plot(southern[\"Humidity\"], cloud_s[0]*southern[\"Humidity\"]+cloud_s[1], color='red', linewidth=1)\n",
    "\n",
    "#Regression Equations\n",
    "plt.text(15,-7,'y={:.2f}+{:.2f}*x'.format(cloud_s[1],cloud_s[0]),color='red',size=10)\n",
    "\n",
    "#Legend, title, labels\n",
    "plt.legend(labels=['Regression Line'])\n",
    "plt.title(\"Southern Hemisphere - Cloudiness vs. Latitude Linear Regression\")\n",
    "plt.xlabel(\"Cloudiness (%)\")\n",
    "plt.ylabel(\"Latitude\")\n"
   ]
  },
  {
   "cell_type": "markdown",
   "metadata": {},
   "source": [
    "####  Northern Hemisphere - Wind Speed (mph) vs. Latitude Linear Regression"
   ]
  },
  {
   "cell_type": "code",
   "execution_count": null,
   "metadata": {},
   "outputs": [],
   "source": [
    "#Best Fit Polynomial\n",
    "ws_n = np.polyfit(northern[\"Wind Speed\"], northern[\"Lat\"], 1)\n",
    "\n",
    "#Scatter Plot\n",
    "plt.scatter(northern[\"Wind Speed\"], northern[\"Lat\"], color='blue', linewidth=1, s=10)\n",
    "\n",
    "#Regression Lines\n",
    "plt.plot(northern[\"Wind Speed\"], ws_n[0]*northern[\"Wind Speed\"]+ws_n[1], color='red', linewidth=1)\n",
    "\n",
    "#Regression Equations\n",
    "plt.text(16, 5,'y={:.2f}+{:.2f}*x'.format(ws_n[1],ws_n[0]),color='red',size=10)\n",
    "\n",
    "#Legend, title, labels\n",
    "plt.legend(labels=['Regression Line'])\n",
    "plt.title(\"Northern Hemisphere - Wind Speed vs. Latitude Linear Regression\")\n",
    "plt.xlabel(\"Wind Speed (mph)\")\n",
    "plt.ylabel(\"Latitude\")"
   ]
  },
  {
   "cell_type": "markdown",
   "metadata": {},
   "source": [
    "####  Southern Hemisphere - Wind Speed (mph) vs. Latitude Linear Regression"
   ]
  },
  {
   "cell_type": "code",
   "execution_count": null,
   "metadata": {},
   "outputs": [],
   "source": [
    "#Best Fit Polynomial\n",
    "ws_s = np.polyfit(southern[\"Cloudiness\"], southern[\"Lat\"], 1)\n",
    "\n",
    "#Scatter Plot\n",
    "plt.scatter(southern[\"Cloudiness\"], southern[\"Lat\"], color='blue', linewidth=1, s=10)\n",
    "\n",
    "#Regression Lines\n",
    "plt.plot(southern[\"Cloudiness\"], ws_s[0]*southern[\"Cloudiness\"]+ws_s[1], color='red', linewidth=1)\n",
    "\n",
    "#Regression Equations\n",
    "plt.text(70, -50,'y={:.2f}+{:.2f}*x'.format(ws_s[1],ws_s[0]),color='red',size=10)\n",
    "\n",
    "#Legend, title, labels\n",
    "plt.legend(labels=['Regression Line'])\n",
    "plt.title(\"Southern Hemisphere - Wind Speed vs. Latitude Linear Regression\")\n",
    "plt.xlabel(\"Wind Speed (mph)\")\n",
    "plt.ylabel(\"Latitude\")"
   ]
  }
 ],
 "metadata": {
  "kernelspec": {
   "display_name": "Python 3",
   "language": "python",
   "name": "python3"
  },
  "language_info": {
   "codemirror_mode": {
    "name": "ipython",
    "version": 3
   },
   "file_extension": ".py",
   "mimetype": "text/x-python",
   "name": "python",
   "nbconvert_exporter": "python",
   "pygments_lexer": "ipython3",
   "version": "3.7.4"
  }
 },
 "nbformat": 4,
 "nbformat_minor": 4
}
